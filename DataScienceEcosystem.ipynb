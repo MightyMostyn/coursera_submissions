{
 "cells": [
  {
   "cell_type": "markdown",
   "id": "46319479-9c06-4f17-8a56-2db8528269c0",
   "metadata": {},
   "source": [
    "<center>\n",
    "    <img src=\"https://cf-courses-data.s3.us.cloud-object-storage.appdomain.cloud/IBMDeveloperSkillsNetwork-DS0105EN-SkillsNetwork/labs/Module2/images/SN_web_lightmode.png\" width=\"300\" alt=\"cognitiveclass.ai logo\">\n",
    "</center>"
   ]
  },
  {
   "cell_type": "markdown",
   "id": "f4f2b978-989e-4a6b-8880-7a4013cdb457",
   "metadata": {
    "tags": []
   },
   "source": [
    "# Data Science Tools and Ecosystem"
   ]
  },
  {
   "cell_type": "markdown",
   "id": "9649b2b9-a437-4fa2-8da7-d5edfd4c79f4",
   "metadata": {},
   "source": [
    "In this notebook, Data Science Tools and Ecosystem are summarised."
   ]
  },
  {
   "cell_type": "markdown",
   "id": "24eb885e-ed3a-4707-8bc4-80989463a695",
   "metadata": {},
   "source": [
    "## Author\n",
    "Mostyn Sherlock"
   ]
  },
  {
   "cell_type": "markdown",
   "id": "722a2580-c782-4878-9b07-1f3c5b373377",
   "metadata": {},
   "source": [
    "**Objectives**:\n",
    "\n",
    "- List popular languages for Data Science\n",
    "- List common used libraries used by Data Scientists\n",
    "- List some Open Source development environment tools used in Data Science\n",
    "- Example of Python arithmetic multiplication and addition\n",
    "- Example of Python arithmetic division"
   ]
  },
  {
   "cell_type": "markdown",
   "id": "93b6e719-c1ec-4838-9d78-3a1dbe9c950c",
   "metadata": {},
   "source": [
    "Some of the popular languages that Data Scientists use are:\n",
    "\n",
    "1. C/C++\n",
    "1. Go\n",
    "1. Java\n",
    "1. JavaScript\n",
    "1. Julia\n",
    "1. MATLAB\n",
    "1. Python\n",
    "1. R\n",
    "1. SAS\n",
    "1. SQL\n",
    "1. Scala\n",
    "1. Swift"
   ]
  },
  {
   "cell_type": "markdown",
   "id": "ade273d9-0b8c-45f1-8fa4-bb020f910c40",
   "metadata": {},
   "source": [
    "Some of the common used libraries used by Data Scientists are:\n",
    "\n",
    "1. Matplotlib\n",
    "1. NumPy\n",
    "1. Pandas\n",
    "1. Plotly\n",
    "1. Scikit-Learn\n",
    "1. Seaborn"
   ]
  },
  {
   "cell_type": "markdown",
   "id": "dcadcc9f-2b77-42fa-8fad-68c88612309e",
   "metadata": {},
   "source": [
    "| Data Science Tools |\n",
    "| -------- |\n",
    "| Jupyter Notebooks |\n",
    "| R Studio |\n",
    "| Zeppelin Notebooks |"
   ]
  },
  {
   "cell_type": "markdown",
   "id": "6b4ed69d-c949-4d78-b1da-5103a7494362",
   "metadata": {},
   "source": [
    "### Below are a few examples of evaluating arithmetic expressions in Python"
   ]
  },
  {
   "cell_type": "code",
   "execution_count": null,
   "id": "0f069be4-5d8b-4a39-94ae-e47f266acfdf",
   "metadata": {
    "tags": []
   },
   "outputs": [
    {
     "data": {
      "text/plain": [
       "17"
      ]
     },
     "execution_count": 1,
     "metadata": {},
     "output_type": "execute_result"
    }
   ],
   "source": [
    "# This a simple arithmetic expression to mutiply then add integers\n",
    "(3*4)+5"
   ]
  },
  {
   "cell_type": "code",
   "execution_count": 2,
   "id": "750ad709-76b6-41b4-8bff-02f8a261494f",
   "metadata": {
    "tags": []
   },
   "outputs": [
    {
     "data": {
      "text/plain": [
       "3.3333333333333335"
      ]
     },
     "execution_count": 2,
     "metadata": {},
     "output_type": "execute_result"
    }
   ],
   "source": [
    "# This will convert 200 minutes to hours by diving by 60\n",
    "200/60"
   ]
  },
  {
   "cell_type": "code",
   "execution_count": 3,
   "id": "ec92e1b1-cacc-4bdf-bde3-07383b6babf3",
   "metadata": {
    "tags": []
   },
   "outputs": [
    {
     "name": "stdout",
     "output_type": "stream",
     "text": [
      "3 hours 20 minutes\n"
     ]
    }
   ],
   "source": [
    "# You may prefer to give real time for 200 minutes as hours and minutes\n",
    "# N.B. nobody in the real world uses decimal hours or minutes\n",
    "print('{} hours {} minutes'.format(200 // 60, 200 % 60))"
   ]
  },
  {
   "cell_type": "code",
   "execution_count": 1,
   "id": "9711d999",
   "metadata": {},
   "outputs": [
    {
     "data": {
      "text/plain": [
       "3.142857142857143"
      ]
     },
     "execution_count": 1,
     "metadata": {},
     "output_type": "execute_result"
    }
   ],
   "source": [
    "22/7"
   ]
  }
 ],
 "metadata": {
  "kernelspec": {
   "display_name": "Python 3",
   "language": "python",
   "name": "python3"
  },
  "language_info": {
   "codemirror_mode": {
    "name": "ipython",
    "version": 3
   },
   "file_extension": ".py",
   "mimetype": "text/x-python",
   "name": "python",
   "nbconvert_exporter": "python",
   "pygments_lexer": "ipython3",
   "version": "3.11.9"
  }
 },
 "nbformat": 4,
 "nbformat_minor": 5
}
